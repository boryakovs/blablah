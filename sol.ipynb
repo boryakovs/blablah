{
 "cells": [
  {
   "cell_type": "code",
   "execution_count": 34,
   "metadata": {},
   "outputs": [],
   "source": [
    "def factorial(num):\n",
    "    if num == 0 or num == 1:\n",
    "        return 1\n",
    "    return factorial(num-1)*num\n",
    "\n",
    "def combination(num1, num2):\n",
    "    return factorial(num1) // (factorial(num2) * factorial(num1-num2))\n",
    "\n"
   ]
  },
  {
   "cell_type": "markdown",
   "metadata": {},
   "source": [
    "Задача : \n",
    "В колоде 52 карты, посчитать количество разных вариантов из 10 карт в которых есть хотя бы 1 туз.\n",
    "Решение на паре: С(9,52) ИЛИ посчитать с 1 тузом, с двумя, тремя, четырьма"
   ]
  },
  {
   "cell_type": "code",
   "execution_count": 35,
   "metadata": {},
   "outputs": [
    {
     "data": {
      "text/plain": [
       "9279308324"
      ]
     },
     "execution_count": 35,
     "metadata": {},
     "output_type": "execute_result"
    }
   ],
   "source": [
    "# Решение, где мы считаем с количеством тузов\n",
    "\n",
    "#1 туз\n",
    "\n",
    "one_ace = combination(48,9)\n",
    "one_ace_sol = one_ace*combination(4,1)\n",
    "\n",
    "#2 туза\n",
    "\n",
    "two_aces = combination(48,8)\n",
    "two_aces_sol = two_aces*combination(4,2)\n",
    "\n",
    "#3 туза\n",
    "\n",
    "three_aces = combination(48,7)\n",
    "three_aces_sol = three_aces*combination(4,3)\n",
    "\n",
    "#4 туза\n",
    "\n",
    "four_aces = combination(48,6)\n",
    "four_aces_sol = four_aces*combination(4,4)\n",
    "\n",
    "# Выводим результаты\n",
    "sol1 = one_ace_sol+two_aces_sol+three_aces_sol+four_aces_sol\n",
    "sol1"
   ]
  },
  {
   "cell_type": "code",
   "execution_count": 36,
   "metadata": {},
   "outputs": [
    {
     "data": {
      "text/plain": [
       "3042312350"
      ]
     },
     "execution_count": 36,
     "metadata": {},
     "output_type": "execute_result"
    }
   ],
   "source": [
    "# Решение, как на паре\n",
    "\n",
    "sol2 = combination(51,9)\n",
    "sol2"
   ]
  },
  {
   "cell_type": "code",
   "execution_count": 37,
   "metadata": {},
   "outputs": [
    {
     "data": {
      "text/plain": [
       "False"
      ]
     },
     "execution_count": 37,
     "metadata": {},
     "output_type": "execute_result"
    }
   ],
   "source": [
    "sol1==sol2"
   ]
  },
  {
   "cell_type": "code",
   "execution_count": null,
   "metadata": {},
   "outputs": [
    {
     "data": {
      "text/plain": [
       "0"
      ]
     },
     "execution_count": 38,
     "metadata": {},
     "output_type": "execute_result"
    }
   ],
   "source": [
    "# 3 решение, через включение-исключение\n",
    "sol3 = combination(51,9)*4 -6*combination(50,8)+4*combination(49,7) -  combination(48,6)\n",
    "\n",
    "sol1-sol3"
   ]
  },
  {
   "cell_type": "code",
   "execution_count": null,
   "metadata": {},
   "outputs": [
    {
     "data": {
      "text/plain": [
       "True"
      ]
     },
     "execution_count": 40,
     "metadata": {},
     "output_type": "execute_result"
    }
   ],
   "source": [
    "# 4 решение, посчитать общее количество вариантов, и отнять количество вариантов где нет тузов\n",
    "sol4 = combination(52,10) - combination(48,10)\n",
    "sol1==sol3==sol4"
   ]
  },
  {
   "cell_type": "code",
   "execution_count": 57,
   "metadata": {},
   "outputs": [
    {
     "name": "stdout",
     "output_type": "stream",
     "text": [
      "Ответ 0: 9279308324\n",
      "Ответ 1: 3042312350\n",
      "Ответ 2: 9279308324\n",
      "Ответ 3: 9279308324\n",
      "\n"
     ]
    }
   ],
   "source": [
    "# Вывод ответов\n",
    "temp = list(map(lambda x : f\"Ответ {x[0]}: {x[1]}\\n\",list(enumerate([sol1,sol2,sol3, sol4]))))\n",
    "print(*temp,sep='')\n"
   ]
  }
 ],
 "metadata": {
  "kernelspec": {
   "display_name": "Python 3",
   "language": "python",
   "name": "python3"
  },
  "language_info": {
   "codemirror_mode": {
    "name": "ipython",
    "version": 3
   },
   "file_extension": ".py",
   "mimetype": "text/x-python",
   "name": "python",
   "nbconvert_exporter": "python",
   "pygments_lexer": "ipython3",
   "version": "3.11.9"
  }
 },
 "nbformat": 4,
 "nbformat_minor": 2
}
